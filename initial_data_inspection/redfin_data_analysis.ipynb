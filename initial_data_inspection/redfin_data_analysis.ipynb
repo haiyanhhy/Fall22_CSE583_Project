{
 "cells": [
  {
   "cell_type": "code",
   "execution_count": 1,
   "metadata": {},
   "outputs": [],
   "source": [
    "import pandas as pd\n",
    "import numpy as np\n",
    "import matplotlib.pyplot as plt\n",
    "import plotly.express as px\n",
    "import os\n",
    "import glob\n",
    "import re\n",
    "import random"
   ]
  },
  {
   "cell_type": "code",
   "execution_count": null,
   "metadata": {},
   "outputs": [],
   "source": [
    "# generate the link for downloading the seattle data\n",
    "# for i in range(40814, 40878):\n",
    "    # print(f\"https://www.redfin.com/stingray/api/gis-csv?al=3&has_dishwasher=false&has_laundry_facility=false&has_laundry_hookups=false&has_parking=false&has_pool=false&has_short_term_lease=false&include_pending_homes=false&isRentals=false&is_furnished=false&market=seattle&num_homes=20000&ord=redfin-recommended-asc&page_number=1&region_id={i}&region_type=2&sold_within_days=1825&status=1&travel_with_traffic=false&travel_within_region=false&uipt=1,2,3,4,5,6,7,8&utilities_included=false&v=8\")\n"
   ]
  },
  {
   "cell_type": "code",
   "execution_count": 2,
   "metadata": {},
   "outputs": [],
   "source": [
    "\n",
    "# preprocessing the data\n",
    "# for file in glob.glob(\"data/redfin-sold-last-five-years/seattle/*.csv\"):\n",
    "#     data = open(file, \"r\").read()\n",
    "#     data = data.strip()\n",
    "#     if data.endswith(\"Over 500 results. Try zooming in or modifying your search options.\"):\n",
    "#         data = data.rstrip(\"Over 500 results. Try zooming in or modifying your search options.\")\n",
    "#     with open(file, \"w\") as fout:\n",
    "#         fout.write(data)"
   ]
  },
  {
   "cell_type": "code",
   "execution_count": 3,
   "metadata": {},
   "outputs": [],
   "source": [
    "# seattle_data_lines = []\n",
    "# lines_set = set()\n",
    "# header_line = None\n",
    "# for file in glob.glob(\"data/redfin-sold-last-five-years/seattle/*.csv\"):\n",
    "#     lines = [l.strip() for l in open(file, \"r\").readlines()]\n",
    "#     if header_line is None:\n",
    "#         header_line = lines[0]\n",
    "#     else:\n",
    "#         assert header_line == lines[0], header_line + \" != \" + lines[0]\n",
    "#     for line in lines[1:]:\n",
    "#         if line not in lines_set:\n",
    "#             seattle_data_lines.append(line)\n",
    "#             lines_set.add(line)\n",
    "# with open(\"data/redfin-sold-last-five-years/seattle.csv\", \"w\") as fout:\n",
    "#     fout.write(header_line + \"\\n\")\n",
    "#     fout.write(\"\\n\".join(seattle_data_lines))"
   ]
  },
  {
   "cell_type": "code",
   "execution_count": 4,
   "metadata": {},
   "outputs": [],
   "source": [
    "# all_data_lines = []\n",
    "# lines_set = set()\n",
    "# header_line = None\n",
    "# for file in glob.glob(\"data/redfin-sold-last-five-years/*.csv\"):\n",
    "#     lines = [l.strip() for l in open(file, \"r\").readlines()]\n",
    "#     if header_line is None:\n",
    "#         header_line = lines[0]\n",
    "#     else:\n",
    "#         assert header_line == lines[0], header_line + \" != \" + lines[0]\n",
    "#     for line in lines[1:]:\n",
    "#         if line not in lines_set:\n",
    "#             all_data_lines.append(line)\n",
    "#             lines_set.add(line)\n",
    "# with open(\"data/redfin-sold-last-five-years/all.csv\", \"w\") as fout:\n",
    "#     fout.write(header_line + \"\\n\")\n",
    "#     fout.write(\"\\n\".join(all_data_lines))"
   ]
  },
  {
   "cell_type": "code",
   "execution_count": 2,
   "metadata": {},
   "outputs": [],
   "source": [
    "raw_data = pd.read_csv(\"data/redfin-sold-last-five-years/all.csv\")"
   ]
  },
  {
   "cell_type": "code",
   "execution_count": 3,
   "metadata": {},
   "outputs": [
    {
     "data": {
      "text/plain": [
       "Index(['SALE TYPE', 'SOLD DATE', 'PROPERTY TYPE', 'ADDRESS', 'CITY',\n",
       "       'STATE OR PROVINCE', 'ZIP OR POSTAL CODE', 'PRICE', 'BEDS', 'BATHS',\n",
       "       'LOCATION', 'SQUARE FEET', 'LOT SIZE', 'YEAR BUILT', 'DAYS ON MARKET',\n",
       "       '$/SQUARE FEET', 'HOA/MONTH', 'STATUS', 'NEXT OPEN HOUSE START TIME',\n",
       "       'NEXT OPEN HOUSE END TIME',\n",
       "       'URL (SEE https://www.redfin.com/buy-a-home/comparative-market-analysis FOR INFO ON PRICING)',\n",
       "       'SOURCE', 'MLS#', 'FAVORITE', 'INTERESTED', 'LATITUDE', 'LONGITUDE'],\n",
       "      dtype='object')"
      ]
     },
     "execution_count": 3,
     "metadata": {},
     "output_type": "execute_result"
    }
   ],
   "source": [
    "raw_data.columns"
   ]
  },
  {
   "cell_type": "code",
   "execution_count": 4,
   "metadata": {},
   "outputs": [
    {
     "name": "stderr",
     "output_type": "stream",
     "text": [
      "/Users/haiyan/opt/anaconda3/envs/py37/lib/python3.7/site-packages/ipykernel_launcher.py:2: SettingWithCopyWarning: \n",
      "A value is trying to be set on a copy of a slice from a DataFrame.\n",
      "Try using .loc[row_indexer,col_indexer] = value instead\n",
      "\n",
      "See the caveats in the documentation: https://pandas.pydata.org/pandas-docs/stable/user_guide/indexing.html#returning-a-view-versus-a-copy\n",
      "  \n"
     ]
    }
   ],
   "source": [
    "data = raw_data.dropna(subset=[\"SOLD DATE\", \"CITY\", \"ZIP OR POSTAL CODE\", \"PRICE\", \"STATUS\"])\n",
    "data[\"ZIP OR POSTAL CODE\"] = data[\"ZIP OR POSTAL CODE\"].astype(int)"
   ]
  },
  {
   "cell_type": "code",
   "execution_count": 5,
   "metadata": {},
   "outputs": [
    {
     "data": {
      "text/plain": [
       "SALE TYPE                                                                                           0\n",
       "SOLD DATE                                                                                           0\n",
       "PROPERTY TYPE                                                                                       0\n",
       "ADDRESS                                                                                             0\n",
       "CITY                                                                                                0\n",
       "STATE OR PROVINCE                                                                                   0\n",
       "ZIP OR POSTAL CODE                                                                                  0\n",
       "PRICE                                                                                               0\n",
       "BEDS                                                                                             2288\n",
       "BATHS                                                                                            4344\n",
       "LOCATION                                                                                            0\n",
       "SQUARE FEET                                                                                      2394\n",
       "LOT SIZE                                                                                        23203\n",
       "YEAR BUILT                                                                                       2240\n",
       "DAYS ON MARKET                                                                                 173598\n",
       "$/SQUARE FEET                                                                                    2416\n",
       "HOA/MONTH                                                                                      102387\n",
       "STATUS                                                                                              0\n",
       "NEXT OPEN HOUSE START TIME                                                                     173598\n",
       "NEXT OPEN HOUSE END TIME                                                                       173598\n",
       "URL (SEE https://www.redfin.com/buy-a-home/comparative-market-analysis FOR INFO ON PRICING)         0\n",
       "SOURCE                                                                                              0\n",
       "MLS#                                                                                                0\n",
       "FAVORITE                                                                                            0\n",
       "INTERESTED                                                                                          0\n",
       "LATITUDE                                                                                            0\n",
       "LONGITUDE                                                                                           0\n",
       "dtype: int64"
      ]
     },
     "execution_count": 5,
     "metadata": {},
     "output_type": "execute_result"
    }
   ],
   "source": [
    "data.isna().sum()"
   ]
  }
 ],
 "metadata": {
  "kernelspec": {
   "display_name": "Python 3.7.11 ('py37')",
   "language": "python",
   "name": "python3"
  },
  "language_info": {
   "codemirror_mode": {
    "name": "ipython",
    "version": 3
   },
   "file_extension": ".py",
   "mimetype": "text/x-python",
   "name": "python",
   "nbconvert_exporter": "python",
   "pygments_lexer": "ipython3",
   "version": "3.7.11"
  },
  "orig_nbformat": 4,
  "vscode": {
   "interpreter": {
    "hash": "f4b4fb5c895525154d3cd56b1231a765ee6b425c2c8f21fd49a53d59b51624a6"
   }
  }
 },
 "nbformat": 4,
 "nbformat_minor": 2
}
